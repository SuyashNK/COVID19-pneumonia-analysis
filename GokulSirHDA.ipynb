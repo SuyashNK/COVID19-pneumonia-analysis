{
  "nbformat": 4,
  "nbformat_minor": 0,
  "metadata": {
    "colab": {
      "provenance": []
    },
    "kernelspec": {
      "name": "python3",
      "display_name": "Python 3"
    },
    "language_info": {
      "name": "python"
    }
  },
  "cells": [
    {
      "cell_type": "code",
      "execution_count": null,
      "metadata": {
        "id": "An3Ck_7aRt84"
      },
      "outputs": [],
      "source": [
        "import os\n",
        "import cv2\n",
        "import numpy as np\n",
        "from sklearn.preprocessing import LabelBinarizer, LabelEncoder\n",
        "from keras.utils import to_categorical\n",
        "from keras.models import Sequential\n",
        "from keras.layers import InputLayer, Conv2D, MaxPool2D, Flatten, Dense, Dropout\n",
        "from keras.optimizers import Adam\n",
        "from keras.regularizers import l2"
      ]
    },
    {
      "cell_type": "code",
      "source": [
        "\n",
        "train_dir = \"/content/drive/MyDrive/data/HDA/Covid19-dataset/train\"\n",
        "test_dir = \"/content/drive/MyDrive/data/HDA/Covid19-dataset/test\"\n"
      ],
      "metadata": {
        "id": "Pe65cv8NSiGS"
      },
      "execution_count": null,
      "outputs": []
    },
    {
      "cell_type": "code",
      "source": [
        "categories = ['Covid', 'Normal', 'Viral Pneumonia']\n",
        "y_train = []\n",
        "x_train = []\n",
        "x_test = []\n",
        "y_test = []\n",
        "Batch_Size = 32\n",
        "INIT_LR = 1e-4\n",
        "EPOCHS = 10\n"
      ],
      "metadata": {
        "id": "8O5NkbHpS281"
      },
      "execution_count": null,
      "outputs": []
    },
    {
      "cell_type": "code",
      "source": [
        "for category in categories:\n",
        "    path = os.path.join(train_dir, category)\n",
        "    for img in os.listdir(path):\n",
        "        img_path = os.path.join(path, img)\n",
        "        image = cv2.imread(img_path)\n",
        "        image = cv2.resize(image, (500, 500))\n",
        "        image = image / 255\n",
        "        x_train.append(image)\n",
        "        y_train.append(categories.index(category))  # Use index as label\n"
      ],
      "metadata": {
        "id": "7g628CkRS58M"
      },
      "execution_count": null,
      "outputs": []
    },
    {
      "cell_type": "code",
      "source": [
        "for category in categories:\n",
        "    path = os.path.join(test_dir, category)\n",
        "    for img in os.listdir(path):\n",
        "        img_path = os.path.join(path, img)\n",
        "        image = cv2.imread(img_path)\n",
        "        image = cv2.resize(image, (500, 500))\n",
        "        image = image / 255\n",
        "        x_test.append(image)\n",
        "        y_test.append(categories.index(category))  # Use index as label\n"
      ],
      "metadata": {
        "id": "RDM7tSbIS8ms"
      },
      "execution_count": null,
      "outputs": []
    },
    {
      "cell_type": "code",
      "source": [
        "le = LabelEncoder()\n",
        "y_train = le.fit_transform(y_train)\n",
        "y_test = le.transform(y_test)\n"
      ],
      "metadata": {
        "id": "RC7EEpYHTP_U"
      },
      "execution_count": null,
      "outputs": []
    },
    {
      "cell_type": "code",
      "source": [
        "\n",
        "# Convert labels to categorical format\n",
        "y_train_categorical = to_categorical(y_train, num_classes=3)\n",
        "y_test_categorical = to_categorical(y_test, num_classes=3)\n"
      ],
      "metadata": {
        "id": "qZGpYdAITbLK"
      },
      "execution_count": null,
      "outputs": []
    },
    {
      "cell_type": "code",
      "source": [
        "  ## Creating a simple CNN model for classification\n",
        "model = Sequential()\n",
        "model.add(InputLayer(input_shape=(500, 500, 3)))\n",
        "model.add(Conv2D(16, kernel_size=(2, 2), activation='relu', kernel_regularizer=l2(1e-4)))\n",
        "model.add(MaxPool2D(pool_size=(2, 2)))\n",
        "model.add(Conv2D(32, kernel_size=(2, 2), activation='relu', kernel_regularizer=l2(1e-4)))\n",
        "model.add(MaxPool2D(pool_size=(2, 2)))\n",
        "model.add(Conv2D(64, kernel_size=(2, 2), activation='relu', kernel_regularizer=l2(1e-4)))\n",
        "model.add(MaxPool2D(pool_size=(2, 2)))\n",
        "model.add(Flatten())\n",
        "model.add(Dense(64, activation='relu'))\n",
        "model.add(Dropout(0.5))\n",
        "model.add(Dense(3, activation='softmax'))\n"
      ],
      "metadata": {
        "id": "M1U-Sg-MTdbj"
      },
      "execution_count": null,
      "outputs": []
    },
    {
      "cell_type": "code",
      "source": [
        "opt = Adam(learning_rate=INIT_LR)\n",
        "model.compile(optimizer=opt, loss='categorical_crossentropy', metrics=['accuracy'])\n"
      ],
      "metadata": {
        "id": "HAvG8GZRThN9"
      },
      "execution_count": null,
      "outputs": []
    },
    {
      "cell_type": "code",
      "source": [
        "validation_steps = len(y_test) // Batch_Size\n",
        "History = model.fit(\n",
        "    np.array(x_train),\n",
        "    np.array(y_train_categorical),\n",
        "    epochs=EPOCHS,\n",
        "    steps_per_epoch=len(x_train) // Batch_Size,\n",
        "    batch_size=Batch_Size,\n",
        "    validation_steps=validation_steps,\n",
        "    validation_data=(np.array(x_test), np.array(y_test_categorical))\n",
        ")"
      ],
      "metadata": {
        "colab": {
          "base_uri": "https://localhost:8080/"
        },
        "id": "CQ7KWfDVTj3v",
        "outputId": "ad424074-bcff-4327-e166-24de21e5f097"
      },
      "execution_count": null,
      "outputs": [
        {
          "output_type": "stream",
          "name": "stdout",
          "text": [
            "Epoch 1/10\n",
            "8/8 [==============================] - 50s 6s/step - loss: 1.0024 - accuracy: 0.5430 - val_loss: 0.8060 - val_accuracy: 0.6094\n",
            "Epoch 2/10\n",
            "8/8 [==============================] - 47s 7s/step - loss: 0.7015 - accuracy: 0.7424 - val_loss: 0.6614 - val_accuracy: 0.6875\n",
            "Epoch 3/10\n",
            "8/8 [==============================] - 44s 5s/step - loss: 0.5623 - accuracy: 0.7598 - val_loss: 0.5693 - val_accuracy: 0.7500\n",
            "Epoch 4/10\n",
            "8/8 [==============================] - 44s 5s/step - loss: 0.4691 - accuracy: 0.7991 - val_loss: 0.5463 - val_accuracy: 0.7344\n",
            "Epoch 5/10\n",
            "8/8 [==============================] - 43s 5s/step - loss: 0.4210 - accuracy: 0.8821 - val_loss: 0.5304 - val_accuracy: 0.7500\n",
            "Epoch 6/10\n",
            "8/8 [==============================] - 43s 5s/step - loss: 0.4112 - accuracy: 0.8559 - val_loss: 0.5184 - val_accuracy: 0.7812\n",
            "Epoch 7/10\n",
            "8/8 [==============================] - 43s 5s/step - loss: 0.3552 - accuracy: 0.8734 - val_loss: 0.4817 - val_accuracy: 0.7344\n",
            "Epoch 8/10\n",
            "8/8 [==============================] - 43s 5s/step - loss: 0.3775 - accuracy: 0.8253 - val_loss: 0.4603 - val_accuracy: 0.8281\n",
            "Epoch 9/10\n",
            "8/8 [==============================] - 42s 5s/step - loss: 0.3315 - accuracy: 0.8515 - val_loss: 0.4488 - val_accuracy: 0.8594\n",
            "Epoch 10/10\n",
            "8/8 [==============================] - 48s 6s/step - loss: 0.3105 - accuracy: 0.8867 - val_loss: 0.4507 - val_accuracy: 0.7500\n"
          ]
        }
      ]
    },
    {
      "cell_type": "code",
      "source": [],
      "metadata": {
        "id": "y0IUECtvTovg"
      },
      "execution_count": null,
      "outputs": []
    }
  ]
}